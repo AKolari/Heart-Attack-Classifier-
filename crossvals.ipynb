{
 "cells": [
  {
   "cell_type": "code",
   "execution_count": 1,
   "id": "ff3f9bb3",
   "metadata": {
    "_cell_guid": "b1076dfc-b9ad-4769-8c92-a6c4dae69d19",
    "_uuid": "8f2839f25d086af736a60e9eeb907d3b93b6e0e5",
    "execution": {
     "iopub.execute_input": "2024-05-19T18:58:45.168791Z",
     "iopub.status.busy": "2024-05-19T18:58:45.168387Z",
     "iopub.status.idle": "2024-05-19T18:58:47.050170Z",
     "shell.execute_reply": "2024-05-19T18:58:47.048720Z"
    },
    "papermill": {
     "duration": 1.889525,
     "end_time": "2024-05-19T18:58:47.052693",
     "exception": false,
     "start_time": "2024-05-19T18:58:45.163168",
     "status": "completed"
    },
    "tags": []
   },
   "outputs": [
    {
     "name": "stdout",
     "output_type": "stream",
     "text": [
      "/kaggle/input/heart-attack-analysis-prediction-dataset/o2Saturation.csv\n",
      "/kaggle/input/heart-attack-analysis-prediction-dataset/heart.csv\n"
     ]
    }
   ],
   "source": [
    "# This Python 3 environment comes with many helpful analytics libraries installed\n",
    "# It is defined by the kaggle/python Docker image: https://github.com/kaggle/docker-python\n",
    "# For example, here's several helpful packages to load\n",
    "\n",
    "import numpy as np # linear algebra\n",
    "import pandas as pd # data processing, CSV file I/O (e.g. pd.read_csv)\n",
    "from sklearn.metrics import accuracy_score, classification_report, confusion_matrix\n",
    "from sklearn.model_selection import cross_val_score\n",
    "\n",
    "# Input data files are available in the read-only \"../input/\" directory\n",
    "# For example, running this (by clicking run or pressing Shift+Enter) will list all files under the input directory\n",
    "\n",
    "import os\n",
    "for dirname, _, filenames in os.walk('/kaggle/input'):\n",
    "    for filename in filenames:\n",
    "        print(os.path.join(dirname, filename))\n",
    "\n",
    "# You can write up to 20GB to the current directory (/kaggle/working/) that gets preserved as output when you create a version using \"Save & Run All\" \n",
    "# You can also write temporary files to /kaggle/temp/, but they won't be saved outside of the current session"
   ]
  },
  {
   "cell_type": "code",
   "execution_count": 2,
   "id": "881e3eb3",
   "metadata": {
    "execution": {
     "iopub.execute_input": "2024-05-19T18:58:47.061121Z",
     "iopub.status.busy": "2024-05-19T18:58:47.060665Z",
     "iopub.status.idle": "2024-05-19T18:58:47.104326Z",
     "shell.execute_reply": "2024-05-19T18:58:47.103507Z"
    },
    "papermill": {
     "duration": 0.050409,
     "end_time": "2024-05-19T18:58:47.106534",
     "exception": false,
     "start_time": "2024-05-19T18:58:47.056125",
     "status": "completed"
    },
    "tags": []
   },
   "outputs": [],
   "source": [
    "o2saturation = pd.read_csv('/kaggle/input/heart-attack-analysis-prediction-dataset/o2Saturation.csv')\n",
    "heart = pd.read_csv('/kaggle/input/heart-attack-analysis-prediction-dataset/heart.csv')"
   ]
  },
  {
   "cell_type": "code",
   "execution_count": 3,
   "id": "bc16f5df",
   "metadata": {
    "execution": {
     "iopub.execute_input": "2024-05-19T18:58:47.114462Z",
     "iopub.status.busy": "2024-05-19T18:58:47.114104Z",
     "iopub.status.idle": "2024-05-19T18:58:47.138856Z",
     "shell.execute_reply": "2024-05-19T18:58:47.137375Z"
    },
    "papermill": {
     "duration": 0.030963,
     "end_time": "2024-05-19T18:58:47.140940",
     "exception": false,
     "start_time": "2024-05-19T18:58:47.109977",
     "status": "completed"
    },
    "tags": []
   },
   "outputs": [
    {
     "name": "stdout",
     "output_type": "stream",
     "text": [
      "     age  sex  cp  trtbps  chol  fbs  restecg  thalachh  exng  oldpeak  slp  \\\n",
      "0     63    1   3     145   233    1        0       150     0      2.3    0   \n",
      "1     37    1   2     130   250    0        1       187     0      3.5    0   \n",
      "2     41    0   1     130   204    0        0       172     0      1.4    2   \n",
      "3     56    1   1     120   236    0        1       178     0      0.8    2   \n",
      "4     57    0   0     120   354    0        1       163     1      0.6    2   \n",
      "..   ...  ...  ..     ...   ...  ...      ...       ...   ...      ...  ...   \n",
      "298   57    0   0     140   241    0        1       123     1      0.2    1   \n",
      "299   45    1   3     110   264    0        1       132     0      1.2    1   \n",
      "300   68    1   0     144   193    1        1       141     0      3.4    1   \n",
      "301   57    1   0     130   131    0        1       115     1      1.2    1   \n",
      "302   57    0   1     130   236    0        0       174     0      0.0    1   \n",
      "\n",
      "     caa  thall  output  \n",
      "0      0      1       1  \n",
      "1      0      2       1  \n",
      "2      0      2       1  \n",
      "3      0      2       1  \n",
      "4      0      2       1  \n",
      "..   ...    ...     ...  \n",
      "298    0      3       0  \n",
      "299    0      3       0  \n",
      "300    2      3       0  \n",
      "301    1      3       0  \n",
      "302    1      2       0  \n",
      "\n",
      "[303 rows x 14 columns]\n"
     ]
    }
   ],
   "source": [
    "from sklearn.model_selection import train_test_split\n",
    "y = heart.output\n",
    "X = heart.drop(\"output\", axis=1)\n",
    "\n",
    "\n",
    "print(heart)\n",
    "\n",
    "X_train, X_test, y_train, y_test = train_test_split(X,y)"
   ]
  },
  {
   "cell_type": "code",
   "execution_count": 4,
   "id": "6fdc0180",
   "metadata": {
    "execution": {
     "iopub.execute_input": "2024-05-19T18:58:47.148522Z",
     "iopub.status.busy": "2024-05-19T18:58:47.148211Z",
     "iopub.status.idle": "2024-05-19T18:58:47.390287Z",
     "shell.execute_reply": "2024-05-19T18:58:47.389210Z"
    },
    "papermill": {
     "duration": 0.248223,
     "end_time": "2024-05-19T18:58:47.392407",
     "exception": false,
     "start_time": "2024-05-19T18:58:47.144184",
     "status": "completed"
    },
    "tags": []
   },
   "outputs": [
    {
     "name": "stdout",
     "output_type": "stream",
     "text": [
      "0.64 accuracy with a standard deviation of 0.03\n"
     ]
    }
   ],
   "source": [
    "#TEST KNN: Cross validation\n",
    "from sklearn.neighbors import KNeighborsClassifier\n",
    "knnModel = KNeighborsClassifier(n_neighbors=128)\n",
    "scores = cross_val_score(knnModel, X, y, cv=5)\n",
    "print(\"%0.2f accuracy with a standard deviation of %0.2f\" % (scores.mean(), scores.std()))"
   ]
  },
  {
   "cell_type": "code",
   "execution_count": 5,
   "id": "fca2ea4b",
   "metadata": {
    "execution": {
     "iopub.execute_input": "2024-05-19T18:58:47.401137Z",
     "iopub.status.busy": "2024-05-19T18:58:47.400482Z",
     "iopub.status.idle": "2024-05-19T18:58:47.519928Z",
     "shell.execute_reply": "2024-05-19T18:58:47.519000Z"
    },
    "papermill": {
     "duration": 0.126117,
     "end_time": "2024-05-19T18:58:47.522303",
     "exception": false,
     "start_time": "2024-05-19T18:58:47.396186",
     "status": "completed"
    },
    "tags": []
   },
   "outputs": [
    {
     "name": "stdout",
     "output_type": "stream",
     "text": [
      "0.81 accuracy with a standard deviation of 0.03\n"
     ]
    }
   ],
   "source": [
    "# TEST Tree: Cross \n",
    "from sklearn.tree import DecisionTreeClassifier\n",
    "model = DecisionTreeClassifier(max_depth=3)\n",
    "scores = cross_val_score(model, X, y, cv=5)\n",
    "print(\"%0.2f accuracy with a standard deviation of %0.2f\" % (scores.mean(), scores.std()))"
   ]
  },
  {
   "cell_type": "code",
   "execution_count": 6,
   "id": "377cda4e",
   "metadata": {
    "execution": {
     "iopub.execute_input": "2024-05-19T18:58:47.529820Z",
     "iopub.status.busy": "2024-05-19T18:58:47.529523Z",
     "iopub.status.idle": "2024-05-19T18:58:48.856514Z",
     "shell.execute_reply": "2024-05-19T18:58:48.855396Z"
    },
    "papermill": {
     "duration": 1.33319,
     "end_time": "2024-05-19T18:58:48.858766",
     "exception": false,
     "start_time": "2024-05-19T18:58:47.525576",
     "status": "completed"
    },
    "tags": []
   },
   "outputs": [
    {
     "name": "stdout",
     "output_type": "stream",
     "text": [
      "0.85 accuracy with a standard deviation of 0.04\n"
     ]
    }
   ],
   "source": [
    "#TEST Forest: Cross validation\n",
    "from sklearn.ensemble import RandomForestClassifier\n",
    "model = RandomForestClassifier(n_estimators=128, max_depth=2)\n",
    "scores = cross_val_score(model, X, y, cv=5)\n",
    "print(\"%0.2f accuracy with a standard deviation of %0.2f\" % (scores.mean(), scores.std()))\n",
    "\n",
    "\n",
    "\n"
   ]
  },
  {
   "cell_type": "code",
   "execution_count": 7,
   "id": "6e2a0588",
   "metadata": {
    "execution": {
     "iopub.execute_input": "2024-05-19T18:58:48.866823Z",
     "iopub.status.busy": "2024-05-19T18:58:48.866558Z",
     "iopub.status.idle": "2024-05-19T18:58:51.849621Z",
     "shell.execute_reply": "2024-05-19T18:58:51.848334Z"
    },
    "papermill": {
     "duration": 2.989396,
     "end_time": "2024-05-19T18:58:51.851789",
     "exception": false,
     "start_time": "2024-05-19T18:58:48.862393",
     "status": "completed"
    },
    "tags": []
   },
   "outputs": [
    {
     "name": "stdout",
     "output_type": "stream",
     "text": [
      "0.83 accuracy with a standard deviation of 0.04\n"
     ]
    }
   ],
   "source": [
    "#TEST SVM: Cross validation\n",
    "from sklearn.svm import SVC\n",
    "model = SVC(kernel = 'linear')\n",
    "model.fit(X_train, y_train)\n",
    "scores = cross_val_score(model, X, y, cv=5)\n",
    "print(\"%0.2f accuracy with a standard deviation of %0.2f\" % (scores.mean(), scores.std()))\n",
    "\n"
   ]
  }
 ],
 "metadata": {
  "kaggle": {
   "accelerator": "none",
   "dataSources": [
    {
     "datasetId": 1226038,
     "sourceId": 2047221,
     "sourceType": "datasetVersion"
    }
   ],
   "dockerImageVersionId": 30698,
   "isGpuEnabled": false,
   "isInternetEnabled": true,
   "language": "python",
   "sourceType": "notebook"
  },
  "kernelspec": {
   "display_name": "Python 3",
   "language": "python",
   "name": "python3"
  },
  "language_info": {
   "codemirror_mode": {
    "name": "ipython",
    "version": 3
   },
   "file_extension": ".py",
   "mimetype": "text/x-python",
   "name": "python",
   "nbconvert_exporter": "python",
   "pygments_lexer": "ipython3",
   "version": "3.10.13"
  },
  "papermill": {
   "default_parameters": {},
   "duration": 9.67773,
   "end_time": "2024-05-19T18:58:52.273843",
   "environment_variables": {},
   "exception": null,
   "input_path": "__notebook__.ipynb",
   "output_path": "__notebook__.ipynb",
   "parameters": {},
   "start_time": "2024-05-19T18:58:42.596113",
   "version": "2.5.0"
  }
 },
 "nbformat": 4,
 "nbformat_minor": 5
}
