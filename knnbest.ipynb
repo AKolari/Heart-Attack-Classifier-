{
 "cells": [
  {
   "cell_type": "code",
   "execution_count": 1,
   "id": "d5a0a7f3",
   "metadata": {
    "_cell_guid": "b1076dfc-b9ad-4769-8c92-a6c4dae69d19",
    "_uuid": "8f2839f25d086af736a60e9eeb907d3b93b6e0e5",
    "execution": {
     "iopub.execute_input": "2024-05-18T05:08:29.515772Z",
     "iopub.status.busy": "2024-05-18T05:08:29.515332Z",
     "iopub.status.idle": "2024-05-18T05:08:31.423104Z",
     "shell.execute_reply": "2024-05-18T05:08:31.422236Z"
    },
    "papermill": {
     "duration": 1.915079,
     "end_time": "2024-05-18T05:08:31.425289",
     "exception": false,
     "start_time": "2024-05-18T05:08:29.510210",
     "status": "completed"
    },
    "tags": []
   },
   "outputs": [
    {
     "name": "stdout",
     "output_type": "stream",
     "text": [
      "/kaggle/input/heart-attack-analysis-prediction-dataset/o2Saturation.csv\n",
      "/kaggle/input/heart-attack-analysis-prediction-dataset/heart.csv\n"
     ]
    }
   ],
   "source": [
    "# This Python 3 environment comes with many helpful analytics libraries installed\n",
    "# It is defined by the kaggle/python Docker image: https://github.com/kaggle/docker-python\n",
    "# For example, here's several helpful packages to load\n",
    "\n",
    "import numpy as np # linear algebra\n",
    "import pandas as pd # data processing, CSV file I/O (e.g. pd.read_csv)\n",
    "from sklearn.metrics import accuracy_score, classification_report, confusion_matrix\n",
    "\n",
    "# Input data files are available in the read-only \"../input/\" directory\n",
    "# For example, running this (by clicking run or pressing Shift+Enter) will list all files under the input directory\n",
    "\n",
    "import os\n",
    "for dirname, _, filenames in os.walk('/kaggle/input'):\n",
    "    for filename in filenames:\n",
    "        print(os.path.join(dirname, filename))\n",
    "\n",
    "# You can write up to 20GB to the current directory (/kaggle/working/) that gets preserved as output when you create a version using \"Save & Run All\" \n",
    "# You can also write temporary files to /kaggle/temp/, but they won't be saved outside of the current session"
   ]
  },
  {
   "cell_type": "code",
   "execution_count": 2,
   "id": "92de058f",
   "metadata": {
    "execution": {
     "iopub.execute_input": "2024-05-18T05:08:31.433128Z",
     "iopub.status.busy": "2024-05-18T05:08:31.432062Z",
     "iopub.status.idle": "2024-05-18T05:08:31.458190Z",
     "shell.execute_reply": "2024-05-18T05:08:31.457173Z"
    },
    "papermill": {
     "duration": 0.032181,
     "end_time": "2024-05-18T05:08:31.460685",
     "exception": false,
     "start_time": "2024-05-18T05:08:31.428504",
     "status": "completed"
    },
    "tags": []
   },
   "outputs": [],
   "source": [
    "o2saturation = pd.read_csv('/kaggle/input/heart-attack-analysis-prediction-dataset/o2Saturation.csv')\n",
    "heart = pd.read_csv('/kaggle/input/heart-attack-analysis-prediction-dataset/heart.csv')"
   ]
  },
  {
   "cell_type": "code",
   "execution_count": 3,
   "id": "d2931af7",
   "metadata": {
    "execution": {
     "iopub.execute_input": "2024-05-18T05:08:31.467631Z",
     "iopub.status.busy": "2024-05-18T05:08:31.466908Z",
     "iopub.status.idle": "2024-05-18T05:08:31.505717Z",
     "shell.execute_reply": "2024-05-18T05:08:31.504786Z"
    },
    "papermill": {
     "duration": 0.044521,
     "end_time": "2024-05-18T05:08:31.507762",
     "exception": false,
     "start_time": "2024-05-18T05:08:31.463241",
     "status": "completed"
    },
    "tags": []
   },
   "outputs": [
    {
     "name": "stdout",
     "output_type": "stream",
     "text": [
      "     age  sex  cp  trtbps  chol  fbs  restecg  thalachh  exng  oldpeak  slp  \\\n",
      "0     63    1   3     145   233    1        0       150     0      2.3    0   \n",
      "1     37    1   2     130   250    0        1       187     0      3.5    0   \n",
      "2     41    0   1     130   204    0        0       172     0      1.4    2   \n",
      "3     56    1   1     120   236    0        1       178     0      0.8    2   \n",
      "4     57    0   0     120   354    0        1       163     1      0.6    2   \n",
      "..   ...  ...  ..     ...   ...  ...      ...       ...   ...      ...  ...   \n",
      "298   57    0   0     140   241    0        1       123     1      0.2    1   \n",
      "299   45    1   3     110   264    0        1       132     0      1.2    1   \n",
      "300   68    1   0     144   193    1        1       141     0      3.4    1   \n",
      "301   57    1   0     130   131    0        1       115     1      1.2    1   \n",
      "302   57    0   1     130   236    0        0       174     0      0.0    1   \n",
      "\n",
      "     caa  thall  output  \n",
      "0      0      1       1  \n",
      "1      0      2       1  \n",
      "2      0      2       1  \n",
      "3      0      2       1  \n",
      "4      0      2       1  \n",
      "..   ...    ...     ...  \n",
      "298    0      3       0  \n",
      "299    0      3       0  \n",
      "300    2      3       0  \n",
      "301    1      3       0  \n",
      "302    1      2       0  \n",
      "\n",
      "[303 rows x 14 columns]\n"
     ]
    }
   ],
   "source": [
    "from sklearn.model_selection import train_test_split\n",
    "y = heart.output\n",
    "X = heart.drop(\"output\", axis=1)\n",
    "\n",
    "\n",
    "print(heart)\n",
    "\n",
    "X_train, X_test, y_train, y_test = train_test_split(X,y)"
   ]
  },
  {
   "cell_type": "code",
   "execution_count": 4,
   "id": "903944f0",
   "metadata": {
    "execution": {
     "iopub.execute_input": "2024-05-18T05:08:31.514683Z",
     "iopub.status.busy": "2024-05-18T05:08:31.513747Z",
     "iopub.status.idle": "2024-05-18T05:08:31.845172Z",
     "shell.execute_reply": "2024-05-18T05:08:31.844104Z"
    },
    "papermill": {
     "duration": 0.337438,
     "end_time": "2024-05-18T05:08:31.847712",
     "exception": false,
     "start_time": "2024-05-18T05:08:31.510274",
     "status": "completed"
    },
    "tags": []
   },
   "outputs": [
    {
     "name": "stdout",
     "output_type": "stream",
     "text": [
      "k=2, Accuracy=0.5131578947368421\n",
      "\n",
      "              precision    recall  f1-score   support\n",
      "\n",
      "           0       0.46      0.76      0.57        33\n",
      "           1       0.64      0.33      0.43        43\n",
      "\n",
      "    accuracy                           0.51        76\n",
      "   macro avg       0.55      0.54      0.50        76\n",
      "weighted avg       0.56      0.51      0.49        76\n",
      "\n",
      "[[25  8]\n",
      " [29 14]]\n",
      "k=4, Accuracy=0.5263157894736842\n",
      "\n",
      "              precision    recall  f1-score   support\n",
      "\n",
      "           0       0.47      0.67      0.55        33\n",
      "           1       0.62      0.42      0.50        43\n",
      "\n",
      "    accuracy                           0.53        76\n",
      "   macro avg       0.54      0.54      0.53        76\n",
      "weighted avg       0.55      0.53      0.52        76\n",
      "\n",
      "[[22 11]\n",
      " [25 18]]\n",
      "k=8, Accuracy=0.5263157894736842\n",
      "\n",
      "              precision    recall  f1-score   support\n",
      "\n",
      "           0       0.46      0.55      0.50        33\n",
      "           1       0.59      0.51      0.55        43\n",
      "\n",
      "    accuracy                           0.53        76\n",
      "   macro avg       0.53      0.53      0.52        76\n",
      "weighted avg       0.54      0.53      0.53        76\n",
      "\n",
      "[[18 15]\n",
      " [21 22]]\n",
      "k=16, Accuracy=0.5526315789473685\n",
      "\n",
      "              precision    recall  f1-score   support\n",
      "\n",
      "           0       0.49      0.58      0.53        33\n",
      "           1       0.62      0.53      0.57        43\n",
      "\n",
      "    accuracy                           0.55        76\n",
      "   macro avg       0.55      0.56      0.55        76\n",
      "weighted avg       0.56      0.55      0.55        76\n",
      "\n",
      "[[19 14]\n",
      " [20 23]]\n",
      "k=32, Accuracy=0.5789473684210527\n",
      "\n",
      "              precision    recall  f1-score   support\n",
      "\n",
      "           0       0.52      0.48      0.50        33\n",
      "           1       0.62      0.65      0.64        43\n",
      "\n",
      "    accuracy                           0.58        76\n",
      "   macro avg       0.57      0.57      0.57        76\n",
      "weighted avg       0.58      0.58      0.58        76\n",
      "\n",
      "[[16 17]\n",
      " [15 28]]\n",
      "k=64, Accuracy=0.6052631578947368\n",
      "\n",
      "              precision    recall  f1-score   support\n",
      "\n",
      "           0       0.57      0.39      0.46        33\n",
      "           1       0.62      0.77      0.69        43\n",
      "\n",
      "    accuracy                           0.61        76\n",
      "   macro avg       0.59      0.58      0.58        76\n",
      "weighted avg       0.60      0.61      0.59        76\n",
      "\n",
      "[[13 20]\n",
      " [10 33]]\n",
      "k=128, Accuracy=0.6578947368421053\n",
      "\n",
      "              precision    recall  f1-score   support\n",
      "\n",
      "           0       0.68      0.39      0.50        33\n",
      "           1       0.65      0.86      0.74        43\n",
      "\n",
      "    accuracy                           0.66        76\n",
      "   macro avg       0.67      0.63      0.62        76\n",
      "weighted avg       0.66      0.66      0.64        76\n",
      "\n",
      "[[13 20]\n",
      " [ 6 37]]\n"
     ]
    }
   ],
   "source": [
    "#TEST KNN: WHICH VALUE OF K PERFROMS BEST\n",
    "from sklearn.neighbors import KNeighborsClassifier\n",
    "\n",
    "\n",
    "i = 2\n",
    "while i < 129:\n",
    "    knnModel = KNeighborsClassifier(n_neighbors=i)\n",
    "    knnModel.fit(X_train, y_train)\n",
    "    predictions = knnModel.predict(X_test)\n",
    "    accuracy = accuracy_score(y_test, predictions)\n",
    "    classifReport = classification_report(y_test, predictions)\n",
    "    confMatrix = confusion_matrix(y_test, predictions)\n",
    "    print(f\"k={i}, Accuracy={accuracy}\\n\")\n",
    "    print(classifReport)\n",
    "    print(confMatrix)\n",
    "    i += 2\n"
   ]
  },
  {
   "cell_type": "code",
   "execution_count": null,
   "id": "ea33d9b7",
   "metadata": {
    "papermill": {
     "duration": 0.002502,
     "end_time": "2024-05-18T05:08:31.853103",
     "exception": false,
     "start_time": "2024-05-18T05:08:31.850601",
     "status": "completed"
    },
    "tags": []
   },
   "outputs": [],
   "source": [
    "\n",
    "\n"
   ]
  },
  {
   "cell_type": "code",
   "execution_count": null,
   "id": "dd8629b2",
   "metadata": {
    "papermill": {
     "duration": 0.002383,
     "end_time": "2024-05-18T05:08:31.858208",
     "exception": false,
     "start_time": "2024-05-18T05:08:31.855825",
     "status": "completed"
    },
    "tags": []
   },
   "outputs": [],
   "source": []
  }
 ],
 "metadata": {
  "kaggle": {
   "accelerator": "none",
   "dataSources": [
    {
     "datasetId": 1226038,
     "sourceId": 2047221,
     "sourceType": "datasetVersion"
    }
   ],
   "dockerImageVersionId": 30698,
   "isGpuEnabled": false,
   "isInternetEnabled": true,
   "language": "python",
   "sourceType": "notebook"
  },
  "kernelspec": {
   "display_name": "Python 3",
   "language": "python",
   "name": "python3"
  },
  "language_info": {
   "codemirror_mode": {
    "name": "ipython",
    "version": 3
   },
   "file_extension": ".py",
   "mimetype": "text/x-python",
   "name": "python",
   "nbconvert_exporter": "python",
   "pygments_lexer": "ipython3",
   "version": "3.10.13"
  },
  "papermill": {
   "default_parameters": {},
   "duration": 5.577451,
   "end_time": "2024-05-18T05:08:32.383862",
   "environment_variables": {},
   "exception": null,
   "input_path": "__notebook__.ipynb",
   "output_path": "__notebook__.ipynb",
   "parameters": {},
   "start_time": "2024-05-18T05:08:26.806411",
   "version": "2.5.0"
  }
 },
 "nbformat": 4,
 "nbformat_minor": 5
}
