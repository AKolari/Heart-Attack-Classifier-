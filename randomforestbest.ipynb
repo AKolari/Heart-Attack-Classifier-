{
 "cells": [
  {
   "cell_type": "code",
   "execution_count": 1,
   "id": "2ae94548",
   "metadata": {
    "_cell_guid": "b1076dfc-b9ad-4769-8c92-a6c4dae69d19",
    "_uuid": "8f2839f25d086af736a60e9eeb907d3b93b6e0e5",
    "execution": {
     "iopub.execute_input": "2024-05-18T23:40:55.101886Z",
     "iopub.status.busy": "2024-05-18T23:40:55.100798Z",
     "iopub.status.idle": "2024-05-18T23:40:56.083002Z",
     "shell.execute_reply": "2024-05-18T23:40:56.081621Z"
    },
    "papermill": {
     "duration": 0.99057,
     "end_time": "2024-05-18T23:40:56.085688",
     "exception": false,
     "start_time": "2024-05-18T23:40:55.095118",
     "status": "completed"
    },
    "tags": []
   },
   "outputs": [
    {
     "name": "stdout",
     "output_type": "stream",
     "text": [
      "/kaggle/input/heart-attack-analysis-prediction-dataset/o2Saturation.csv\n",
      "/kaggle/input/heart-attack-analysis-prediction-dataset/heart.csv\n"
     ]
    }
   ],
   "source": [
    "# This Python 3 environment comes with many helpful analytics libraries installed\n",
    "# It is defined by the kaggle/python Docker image: https://github.com/kaggle/docker-python\n",
    "# For example, here's several helpful packages to load\n",
    "\n",
    "import numpy as np # linear algebra\n",
    "import pandas as pd # data processing, CSV file I/O (e.g. pd.read_csv)\n",
    "\n",
    "# Input data files are available in the read-only \"../input/\" directory\n",
    "# For example, running this (by clicking run or pressing Shift+Enter) will list all files under the input directory\n",
    "\n",
    "import os\n",
    "for dirname, _, filenames in os.walk('/kaggle/input'):\n",
    "    for filename in filenames:\n",
    "        print(os.path.join(dirname, filename))\n",
    "\n",
    "# You can write up to 20GB to the current directory (/kaggle/working/) that gets preserved as output when you create a version using \"Save & Run All\" \n",
    "# You can also write temporary files to /kaggle/temp/, but they won't be saved outside of the current session"
   ]
  },
  {
   "cell_type": "code",
   "execution_count": 2,
   "id": "47133c12",
   "metadata": {
    "execution": {
     "iopub.execute_input": "2024-05-18T23:40:56.094894Z",
     "iopub.status.busy": "2024-05-18T23:40:56.093878Z",
     "iopub.status.idle": "2024-05-18T23:40:56.123118Z",
     "shell.execute_reply": "2024-05-18T23:40:56.122080Z"
    },
    "papermill": {
     "duration": 0.036496,
     "end_time": "2024-05-18T23:40:56.125856",
     "exception": false,
     "start_time": "2024-05-18T23:40:56.089360",
     "status": "completed"
    },
    "tags": []
   },
   "outputs": [],
   "source": [
    "o2saturation = pd.read_csv('/kaggle/input/heart-attack-analysis-prediction-dataset/o2Saturation.csv')\n",
    "heart = pd.read_csv('/kaggle/input/heart-attack-analysis-prediction-dataset/heart.csv')"
   ]
  },
  {
   "cell_type": "code",
   "execution_count": 3,
   "id": "c01decc9",
   "metadata": {
    "execution": {
     "iopub.execute_input": "2024-05-18T23:40:56.134430Z",
     "iopub.status.busy": "2024-05-18T23:40:56.134061Z",
     "iopub.status.idle": "2024-05-18T23:40:57.552037Z",
     "shell.execute_reply": "2024-05-18T23:40:57.550462Z"
    },
    "papermill": {
     "duration": 1.425512,
     "end_time": "2024-05-18T23:40:57.554770",
     "exception": false,
     "start_time": "2024-05-18T23:40:56.129258",
     "status": "completed"
    },
    "tags": []
   },
   "outputs": [
    {
     "name": "stdout",
     "output_type": "stream",
     "text": [
      "     age  sex  cp  trtbps  chol  fbs  restecg  thalachh  exng  oldpeak  slp  \\\n",
      "0     63    1   3     145   233    1        0       150     0      2.3    0   \n",
      "1     37    1   2     130   250    0        1       187     0      3.5    0   \n",
      "2     41    0   1     130   204    0        0       172     0      1.4    2   \n",
      "3     56    1   1     120   236    0        1       178     0      0.8    2   \n",
      "4     57    0   0     120   354    0        1       163     1      0.6    2   \n",
      "..   ...  ...  ..     ...   ...  ...      ...       ...   ...      ...  ...   \n",
      "298   57    0   0     140   241    0        1       123     1      0.2    1   \n",
      "299   45    1   3     110   264    0        1       132     0      1.2    1   \n",
      "300   68    1   0     144   193    1        1       141     0      3.4    1   \n",
      "301   57    1   0     130   131    0        1       115     1      1.2    1   \n",
      "302   57    0   1     130   236    0        0       174     0      0.0    1   \n",
      "\n",
      "     caa  thall  output  \n",
      "0      0      1       1  \n",
      "1      0      2       1  \n",
      "2      0      2       1  \n",
      "3      0      2       1  \n",
      "4      0      2       1  \n",
      "..   ...    ...     ...  \n",
      "298    0      3       0  \n",
      "299    0      3       0  \n",
      "300    2      3       0  \n",
      "301    1      3       0  \n",
      "302    1      2       0  \n",
      "\n",
      "[303 rows x 14 columns]\n"
     ]
    }
   ],
   "source": [
    "from sklearn.model_selection import train_test_split\n",
    "from sklearn.metrics import accuracy_score, classification_report, confusion_matrix\n",
    "y = heart.output\n",
    "X = heart.drop(\"output\", axis=1)\n",
    "\n",
    "print(heart)\n",
    "\n",
    "X_train, X_test, y_train, y_test = train_test_split(X,y)"
   ]
  },
  {
   "cell_type": "code",
   "execution_count": 4,
   "id": "ff643ebb",
   "metadata": {
    "execution": {
     "iopub.execute_input": "2024-05-18T23:40:57.563198Z",
     "iopub.status.busy": "2024-05-18T23:40:57.562807Z",
     "iopub.status.idle": "2024-05-18T23:41:07.902053Z",
     "shell.execute_reply": "2024-05-18T23:41:07.900797Z"
    },
    "papermill": {
     "duration": 10.346666,
     "end_time": "2024-05-18T23:41:07.904846",
     "exception": false,
     "start_time": "2024-05-18T23:40:57.558180",
     "status": "completed"
    },
    "tags": []
   },
   "outputs": [
    {
     "name": "stdout",
     "output_type": "stream",
     "text": [
      "k=2, Accuracy=0.75\n",
      "\n",
      "              precision    recall  f1-score   support\n",
      "\n",
      "           0       0.70      0.84      0.77        37\n",
      "           1       0.81      0.67      0.73        39\n",
      "\n",
      "    accuracy                           0.75        76\n",
      "   macro avg       0.76      0.75      0.75        76\n",
      "weighted avg       0.76      0.75      0.75        76\n",
      "\n",
      "[[31  6]\n",
      " [13 26]]\n",
      "k=4, Accuracy=0.8421052631578947\n",
      "\n",
      "              precision    recall  f1-score   support\n",
      "\n",
      "           0       0.80      0.89      0.85        37\n",
      "           1       0.89      0.79      0.84        39\n",
      "\n",
      "    accuracy                           0.84        76\n",
      "   macro avg       0.85      0.84      0.84        76\n",
      "weighted avg       0.85      0.84      0.84        76\n",
      "\n",
      "[[33  4]\n",
      " [ 8 31]]\n",
      "k=8, Accuracy=0.7236842105263158\n",
      "\n",
      "              precision    recall  f1-score   support\n",
      "\n",
      "           0       0.71      0.73      0.72        37\n",
      "           1       0.74      0.72      0.73        39\n",
      "\n",
      "    accuracy                           0.72        76\n",
      "   macro avg       0.72      0.72      0.72        76\n",
      "weighted avg       0.72      0.72      0.72        76\n",
      "\n",
      "[[27 10]\n",
      " [11 28]]\n",
      "k=16, Accuracy=0.7368421052631579\n",
      "\n",
      "              precision    recall  f1-score   support\n",
      "\n",
      "           0       0.73      0.73      0.73        37\n",
      "           1       0.74      0.74      0.74        39\n",
      "\n",
      "    accuracy                           0.74        76\n",
      "   macro avg       0.74      0.74      0.74        76\n",
      "weighted avg       0.74      0.74      0.74        76\n",
      "\n",
      "[[27 10]\n",
      " [10 29]]\n",
      "k=32, Accuracy=0.8421052631578947\n",
      "\n",
      "              precision    recall  f1-score   support\n",
      "\n",
      "           0       0.86      0.81      0.83        37\n",
      "           1       0.83      0.87      0.85        39\n",
      "\n",
      "    accuracy                           0.84        76\n",
      "   macro avg       0.84      0.84      0.84        76\n",
      "weighted avg       0.84      0.84      0.84        76\n",
      "\n",
      "[[30  7]\n",
      " [ 5 34]]\n",
      "k=64, Accuracy=0.8421052631578947\n",
      "\n",
      "              precision    recall  f1-score   support\n",
      "\n",
      "           0       0.86      0.81      0.83        37\n",
      "           1       0.83      0.87      0.85        39\n",
      "\n",
      "    accuracy                           0.84        76\n",
      "   macro avg       0.84      0.84      0.84        76\n",
      "weighted avg       0.84      0.84      0.84        76\n",
      "\n",
      "[[30  7]\n",
      " [ 5 34]]\n",
      "k=128, Accuracy=0.8026315789473685\n",
      "\n",
      "              precision    recall  f1-score   support\n",
      "\n",
      "           0       0.82      0.76      0.79        37\n",
      "           1       0.79      0.85      0.81        39\n",
      "\n",
      "    accuracy                           0.80        76\n",
      "   macro avg       0.80      0.80      0.80        76\n",
      "weighted avg       0.80      0.80      0.80        76\n",
      "\n",
      "[[28  9]\n",
      " [ 6 33]]\n",
      "k=256, Accuracy=0.8421052631578947\n",
      "\n",
      "              precision    recall  f1-score   support\n",
      "\n",
      "           0       0.86      0.81      0.83        37\n",
      "           1       0.83      0.87      0.85        39\n",
      "\n",
      "    accuracy                           0.84        76\n",
      "   macro avg       0.84      0.84      0.84        76\n",
      "weighted avg       0.84      0.84      0.84        76\n",
      "\n",
      "[[30  7]\n",
      " [ 5 34]]\n",
      "k=512, Accuracy=0.8026315789473685\n",
      "\n",
      "              precision    recall  f1-score   support\n",
      "\n",
      "           0       0.82      0.76      0.79        37\n",
      "           1       0.79      0.85      0.81        39\n",
      "\n",
      "    accuracy                           0.80        76\n",
      "   macro avg       0.80      0.80      0.80        76\n",
      "weighted avg       0.80      0.80      0.80        76\n",
      "\n",
      "[[28  9]\n",
      " [ 6 33]]\n",
      "k=1024, Accuracy=0.8289473684210527\n",
      "\n",
      "              precision    recall  f1-score   support\n",
      "\n",
      "           0       0.83      0.81      0.82        37\n",
      "           1       0.82      0.85      0.84        39\n",
      "\n",
      "    accuracy                           0.83        76\n",
      "   macro avg       0.83      0.83      0.83        76\n",
      "weighted avg       0.83      0.83      0.83        76\n",
      "\n",
      "[[30  7]\n",
      " [ 6 33]]\n",
      "k=2048, Accuracy=0.8289473684210527\n",
      "\n",
      "              precision    recall  f1-score   support\n",
      "\n",
      "           0       0.83      0.81      0.82        37\n",
      "           1       0.82      0.85      0.84        39\n",
      "\n",
      "    accuracy                           0.83        76\n",
      "   macro avg       0.83      0.83      0.83        76\n",
      "weighted avg       0.83      0.83      0.83        76\n",
      "\n",
      "[[30  7]\n",
      " [ 6 33]]\n"
     ]
    }
   ],
   "source": [
    "from sklearn.ensemble import RandomForestClassifier\n",
    "\n",
    "i=2\n",
    "while i < 2049:\n",
    "    model = RandomForestClassifier(n_estimators=i)\n",
    "    model.fit(X_train, y_train)\n",
    "    predictions = model.predict(X_test)\n",
    "    accuracy = accuracy_score(y_test, predictions)\n",
    "    classifReport = classification_report(y_test, predictions)\n",
    "    confMatrix = confusion_matrix(y_test, predictions)\n",
    "    print(f\"k={i}, Accuracy={accuracy}\\n\")\n",
    "    print(classifReport)\n",
    "    print(confMatrix)\n",
    "    i *= 2"
   ]
  },
  {
   "cell_type": "code",
   "execution_count": null,
   "id": "eb766e12",
   "metadata": {
    "papermill": {
     "duration": 0.004039,
     "end_time": "2024-05-18T23:41:07.913146",
     "exception": false,
     "start_time": "2024-05-18T23:41:07.909107",
     "status": "completed"
    },
    "tags": []
   },
   "outputs": [],
   "source": []
  },
  {
   "cell_type": "code",
   "execution_count": null,
   "id": "f59a22ac",
   "metadata": {
    "papermill": {
     "duration": 0.003864,
     "end_time": "2024-05-18T23:41:07.921136",
     "exception": false,
     "start_time": "2024-05-18T23:41:07.917272",
     "status": "completed"
    },
    "tags": []
   },
   "outputs": [],
   "source": []
  }
 ],
 "metadata": {
  "kaggle": {
   "accelerator": "none",
   "dataSources": [
    {
     "datasetId": 1226038,
     "sourceId": 2047221,
     "sourceType": "datasetVersion"
    }
   ],
   "dockerImageVersionId": 30698,
   "isGpuEnabled": false,
   "isInternetEnabled": true,
   "language": "python",
   "sourceType": "notebook"
  },
  "kernelspec": {
   "display_name": "Python 3",
   "language": "python",
   "name": "python3"
  },
  "language_info": {
   "codemirror_mode": {
    "name": "ipython",
    "version": 3
   },
   "file_extension": ".py",
   "mimetype": "text/x-python",
   "name": "python",
   "nbconvert_exporter": "python",
   "pygments_lexer": "ipython3",
   "version": "3.10.13"
  },
  "papermill": {
   "default_parameters": {},
   "duration": 16.606865,
   "end_time": "2024-05-18T23:41:08.547359",
   "environment_variables": {},
   "exception": null,
   "input_path": "__notebook__.ipynb",
   "output_path": "__notebook__.ipynb",
   "parameters": {},
   "start_time": "2024-05-18T23:40:51.940494",
   "version": "2.5.0"
  }
 },
 "nbformat": 4,
 "nbformat_minor": 5
}
