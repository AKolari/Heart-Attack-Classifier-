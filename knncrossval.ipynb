{
 "cells": [
  {
   "cell_type": "code",
   "execution_count": 1,
   "id": "ebe62497",
   "metadata": {
    "_cell_guid": "b1076dfc-b9ad-4769-8c92-a6c4dae69d19",
    "_uuid": "8f2839f25d086af736a60e9eeb907d3b93b6e0e5",
    "execution": {
     "iopub.execute_input": "2024-05-19T18:35:41.565388Z",
     "iopub.status.busy": "2024-05-19T18:35:41.564876Z",
     "iopub.status.idle": "2024-05-19T18:35:43.757575Z",
     "shell.execute_reply": "2024-05-19T18:35:43.755829Z"
    },
    "papermill": {
     "duration": 2.200905,
     "end_time": "2024-05-19T18:35:43.760260",
     "exception": false,
     "start_time": "2024-05-19T18:35:41.559355",
     "status": "completed"
    },
    "tags": []
   },
   "outputs": [
    {
     "name": "stdout",
     "output_type": "stream",
     "text": [
      "/kaggle/input/heart-attack-analysis-prediction-dataset/o2Saturation.csv\n",
      "/kaggle/input/heart-attack-analysis-prediction-dataset/heart.csv\n"
     ]
    }
   ],
   "source": [
    "# This Python 3 environment comes with many helpful analytics libraries installed\n",
    "# It is defined by the kaggle/python Docker image: https://github.com/kaggle/docker-python\n",
    "# For example, here's several helpful packages to load\n",
    "\n",
    "import numpy as np # linear algebra\n",
    "import pandas as pd # data processing, CSV file I/O (e.g. pd.read_csv)\n",
    "from sklearn.metrics import accuracy_score, classification_report, confusion_matrix\n",
    "from sklearn.model_selection import cross_val_score\n",
    "\n",
    "# Input data files are available in the read-only \"../input/\" directory\n",
    "# For example, running this (by clicking run or pressing Shift+Enter) will list all files under the input directory\n",
    "\n",
    "import os\n",
    "for dirname, _, filenames in os.walk('/kaggle/input'):\n",
    "    for filename in filenames:\n",
    "        print(os.path.join(dirname, filename))\n",
    "\n",
    "# You can write up to 20GB to the current directory (/kaggle/working/) that gets preserved as output when you create a version using \"Save & Run All\" \n",
    "# You can also write temporary files to /kaggle/temp/, but they won't be saved outside of the current session"
   ]
  },
  {
   "cell_type": "code",
   "execution_count": 2,
   "id": "58041a43",
   "metadata": {
    "execution": {
     "iopub.execute_input": "2024-05-19T18:35:43.769044Z",
     "iopub.status.busy": "2024-05-19T18:35:43.768496Z",
     "iopub.status.idle": "2024-05-19T18:35:43.797493Z",
     "shell.execute_reply": "2024-05-19T18:35:43.796377Z"
    },
    "papermill": {
     "duration": 0.036435,
     "end_time": "2024-05-19T18:35:43.800322",
     "exception": false,
     "start_time": "2024-05-19T18:35:43.763887",
     "status": "completed"
    },
    "tags": []
   },
   "outputs": [],
   "source": [
    "o2saturation = pd.read_csv('/kaggle/input/heart-attack-analysis-prediction-dataset/o2Saturation.csv')\n",
    "heart = pd.read_csv('/kaggle/input/heart-attack-analysis-prediction-dataset/heart.csv')"
   ]
  },
  {
   "cell_type": "code",
   "execution_count": 3,
   "id": "7f370df8",
   "metadata": {
    "execution": {
     "iopub.execute_input": "2024-05-19T18:35:43.808701Z",
     "iopub.status.busy": "2024-05-19T18:35:43.808309Z",
     "iopub.status.idle": "2024-05-19T18:35:43.840549Z",
     "shell.execute_reply": "2024-05-19T18:35:43.838865Z"
    },
    "papermill": {
     "duration": 0.039596,
     "end_time": "2024-05-19T18:35:43.843248",
     "exception": false,
     "start_time": "2024-05-19T18:35:43.803652",
     "status": "completed"
    },
    "tags": []
   },
   "outputs": [
    {
     "name": "stdout",
     "output_type": "stream",
     "text": [
      "     age  sex  cp  trtbps  chol  fbs  restecg  thalachh  exng  oldpeak  slp  \\\n",
      "0     63    1   3     145   233    1        0       150     0      2.3    0   \n",
      "1     37    1   2     130   250    0        1       187     0      3.5    0   \n",
      "2     41    0   1     130   204    0        0       172     0      1.4    2   \n",
      "3     56    1   1     120   236    0        1       178     0      0.8    2   \n",
      "4     57    0   0     120   354    0        1       163     1      0.6    2   \n",
      "..   ...  ...  ..     ...   ...  ...      ...       ...   ...      ...  ...   \n",
      "298   57    0   0     140   241    0        1       123     1      0.2    1   \n",
      "299   45    1   3     110   264    0        1       132     0      1.2    1   \n",
      "300   68    1   0     144   193    1        1       141     0      3.4    1   \n",
      "301   57    1   0     130   131    0        1       115     1      1.2    1   \n",
      "302   57    0   1     130   236    0        0       174     0      0.0    1   \n",
      "\n",
      "     caa  thall  output  \n",
      "0      0      1       1  \n",
      "1      0      2       1  \n",
      "2      0      2       1  \n",
      "3      0      2       1  \n",
      "4      0      2       1  \n",
      "..   ...    ...     ...  \n",
      "298    0      3       0  \n",
      "299    0      3       0  \n",
      "300    2      3       0  \n",
      "301    1      3       0  \n",
      "302    1      2       0  \n",
      "\n",
      "[303 rows x 14 columns]\n"
     ]
    }
   ],
   "source": [
    "from sklearn.model_selection import train_test_split\n",
    "y = heart.output\n",
    "X = heart.drop(\"output\", axis=1)\n",
    "\n",
    "\n",
    "print(heart)\n",
    "\n",
    "X_train, X_test, y_train, y_test = train_test_split(X,y)"
   ]
  },
  {
   "cell_type": "code",
   "execution_count": 4,
   "id": "7e711425",
   "metadata": {
    "execution": {
     "iopub.execute_input": "2024-05-19T18:35:43.852113Z",
     "iopub.status.busy": "2024-05-19T18:35:43.851692Z",
     "iopub.status.idle": "2024-05-19T18:35:44.142869Z",
     "shell.execute_reply": "2024-05-19T18:35:44.141936Z"
    },
    "papermill": {
     "duration": 0.298835,
     "end_time": "2024-05-19T18:35:44.145586",
     "exception": false,
     "start_time": "2024-05-19T18:35:43.846751",
     "status": "completed"
    },
    "tags": []
   },
   "outputs": [
    {
     "name": "stdout",
     "output_type": "stream",
     "text": [
      "0.64 accuracy with a standard deviation of 0.03\n"
     ]
    }
   ],
   "source": [
    "#TEST KNN: Cross validation\n",
    "from sklearn.neighbors import KNeighborsClassifier\n",
    "knnModel = KNeighborsClassifier(n_neighbors=128)\n",
    "scores = cross_val_score(knnModel, X, y, cv=5)\n",
    "print(\"%0.2f accuracy with a standard deviation of %0.2f\" % (scores.mean(), scores.std()))\n",
    "\n"
   ]
  },
  {
   "cell_type": "code",
   "execution_count": 5,
   "id": "813e7d9c",
   "metadata": {
    "execution": {
     "iopub.execute_input": "2024-05-19T18:35:44.155052Z",
     "iopub.status.busy": "2024-05-19T18:35:44.154586Z",
     "iopub.status.idle": "2024-05-19T18:35:44.349935Z",
     "shell.execute_reply": "2024-05-19T18:35:44.349021Z"
    },
    "papermill": {
     "duration": 0.203224,
     "end_time": "2024-05-19T18:35:44.352847",
     "exception": false,
     "start_time": "2024-05-19T18:35:44.149623",
     "status": "completed"
    },
    "tags": []
   },
   "outputs": [
    {
     "name": "stdout",
     "output_type": "stream",
     "text": [
      "0.64 accuracy with a standard deviation of 0.03\n"
     ]
    }
   ],
   "source": [
    "#TEST DECISION TREE: Cross validation\n",
    "from sklearn.tree import DecisionTreeClassifier\n",
    "knnModel = KNeighborsClassifier(n_neighbors=128)\n",
    "scores = cross_val_score(knnModel, X, y, cv=5)\n",
    "print(\"%0.2f accuracy with a standard deviation of %0.2f\" % (scores.mean(), scores.std()))\n",
    "\n",
    "\n",
    "\n"
   ]
  },
  {
   "cell_type": "code",
   "execution_count": null,
   "id": "ad05e475",
   "metadata": {
    "papermill": {
     "duration": 0.003429,
     "end_time": "2024-05-19T18:35:44.360514",
     "exception": false,
     "start_time": "2024-05-19T18:35:44.357085",
     "status": "completed"
    },
    "tags": []
   },
   "outputs": [],
   "source": []
  }
 ],
 "metadata": {
  "kaggle": {
   "accelerator": "none",
   "dataSources": [
    {
     "datasetId": 1226038,
     "sourceId": 2047221,
     "sourceType": "datasetVersion"
    }
   ],
   "dockerImageVersionId": 30698,
   "isGpuEnabled": false,
   "isInternetEnabled": true,
   "language": "python",
   "sourceType": "notebook"
  },
  "kernelspec": {
   "display_name": "Python 3",
   "language": "python",
   "name": "python3"
  },
  "language_info": {
   "codemirror_mode": {
    "name": "ipython",
    "version": 3
   },
   "file_extension": ".py",
   "mimetype": "text/x-python",
   "name": "python",
   "nbconvert_exporter": "python",
   "pygments_lexer": "ipython3",
   "version": "3.10.13"
  },
  "papermill": {
   "default_parameters": {},
   "duration": 6.556602,
   "end_time": "2024-05-19T18:35:44.987103",
   "environment_variables": {},
   "exception": null,
   "input_path": "__notebook__.ipynb",
   "output_path": "__notebook__.ipynb",
   "parameters": {},
   "start_time": "2024-05-19T18:35:38.430501",
   "version": "2.5.0"
  }
 },
 "nbformat": 4,
 "nbformat_minor": 5
}
